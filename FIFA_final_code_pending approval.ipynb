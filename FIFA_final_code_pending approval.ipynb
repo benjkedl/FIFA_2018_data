{
 "cells": [
  {
   "cell_type": "markdown",
   "metadata": {},
   "source": [
    "# FIFA World Cup 2018 \n",
    "<img src=\"files/Russia2018.jpg\">"
   ]
  },
  {
   "cell_type": "markdown",
   "metadata": {},
   "source": [
    "# Import Dependencies\n",
    "-  Libraries and Modules\n",
    "-  API Key\n",
    "-  Define base url"
   ]
  },
  {
   "cell_type": "code",
   "execution_count": null,
   "metadata": {},
   "outputs": [],
   "source": [
    "import requests\n",
    "import pandas as pd\n",
    "import numpy as np\n",
    "import matplotlib.pyplot as plt\n",
    "import scipy.stats as scipy\n",
    "from datetime import datetime\n",
    "# url to fifa data csv\n",
    "fifa_url = 'https://worldcup.sfg.io/teams/results'"
   ]
  },
  {
   "cell_type": "markdown",
   "metadata": {},
   "source": [
    "# 1. Data Preaparation"
   ]
  },
  {
   "cell_type": "markdown",
   "metadata": {},
   "source": [
    "## Extract Squad Data"
   ]
  },
  {
   "cell_type": "code",
   "execution_count": null,
   "metadata": {},
   "outputs": [],
   "source": [
    "## National teams at the 2018 FIFA World Cup in Russia by average age of players (in years)\n",
    "# Source File: https://www.kaggle.com/jonathanbouchet/fifa-world-cup-2018-players-stats/data\n",
    "# Dataset #1  Read CSV\n",
    "fifa_squads = pd.read_csv(\"2018 FIFA World Cup Squads2.csv\", encoding = \"ISO-8859-1\")\n",
    "fifa_players = pd.read_csv(\"wc2018-players2.csv\", encoding = \"ISO-8859-1\")\n"
   ]
  },
  {
   "cell_type": "code",
   "execution_count": null,
   "metadata": {},
   "outputs": [],
   "source": [
    "# List of Final 8 FIFA WC2018 Teams/Countries\n",
    "final8 = [\"Belgium\",\"Brazil\",\"Croatia\", \"England\", \"France\", \"Russia\", \"Sweden\", \"Uruguay\"]"
   ]
  },
  {
   "cell_type": "code",
   "execution_count": null,
   "metadata": {},
   "outputs": [],
   "source": [
    "\n",
    "# Merge the two datasets together# Merge \n",
    "combined_fifa_data = pd.merge(fifa_squads, fifa_players, on=\"Index Field\")\n",
    "merged_df = pd.DataFrame(combined_fifa_data)\n",
    "merged_df.index = merged_df[\"Index Field\"]\n",
    "#del merged_df[\"Team_y\"]\n",
    "del merged_df[\"Pos.\"]\n",
    "del merged_df[\"#\"]\n",
    "del merged_df[\"Birth Date\"]\n",
    "del merged_df[\"Player Count\"]\n",
    "del merged_df[\"Club_x\"]\n",
    "del merged_df[\"FIFA Popular Name\"]\n",
    "del merged_df[\"Index Field\"]\n",
    "del merged_df[\"Shirt Name\"]\n",
    "merged_df.tail(1)"
   ]
  },
  {
   "cell_type": "code",
   "execution_count": null,
   "metadata": {},
   "outputs": [],
   "source": [
    "# Groupby Team\n",
    "df1 = pd.DataFrame(merged_df)\n",
    "g1 = df1.groupby( [\"Team_x\"] ).mean()\n",
    "# g1.tail(1)\n",
    "g1.reset_index(inplace = True)\n",
    "g1.head(2)"
   ]
  },
  {
   "cell_type": "code",
   "execution_count": null,
   "metadata": {},
   "outputs": [],
   "source": [
    "g1.set_index('Team_x', inplace=True)"
   ]
  },
  {
   "cell_type": "code",
   "execution_count": null,
   "metadata": {},
   "outputs": [],
   "source": []
  },
  {
   "cell_type": "markdown",
   "metadata": {},
   "source": [
    "## Retreive Team Data from FIFA API\n",
    "-  Load the data into a df\n",
    "-  Set country as the index of the df"
   ]
  },
  {
   "cell_type": "code",
   "execution_count": null,
   "metadata": {},
   "outputs": [],
   "source": [
    "#request data on all the teams in the 2018 World cup\n",
    "response = requests.get(fifa_url).json()\n",
    "teams_df = pd.DataFrame(response)\n",
    "teams_df.index = teams_df['country']\n",
    "del teams_df['alternate_name']"
   ]
  },
  {
   "cell_type": "code",
   "execution_count": null,
   "metadata": {},
   "outputs": [],
   "source": [
    "#set country as index delete alternate_name series\n",
    "teams_df.index = teams_df[\"country\"]\n",
    "teams_df.head(2)"
   ]
  },
  {
   "cell_type": "markdown",
   "metadata": {},
   "source": [
    "## Retreive Match Data from FIFA API\n",
    "-  Load the data into a df\n"
   ]
  },
  {
   "cell_type": "code",
   "execution_count": null,
   "metadata": {},
   "outputs": [],
   "source": [
    "# Import csv *** contains JSONS format in some indeces ***\n",
    "\n",
    "matches_url = 'https://worldcup.sfg.io/matches'\n",
    "match_df = pd.DataFrame(requests.get(matches_url).json())\n",
    "match_df.tail()"
   ]
  },
  {
   "cell_type": "markdown",
   "metadata": {},
   "source": [
    "## Build Tactics Lists"
   ]
  },
  {
   "cell_type": "code",
   "execution_count": null,
   "metadata": {},
   "outputs": [],
   "source": [
    "away_team_tactics_list = []\n",
    "\n",
    "for a in range(len(match_df[\"away_team_statistics\"])):\n",
    "    away_tactics = match_df[\"away_team_statistics\"][a][\"tactics\"]\n",
    "    away_team_tactics_list.append(away_tactics)\n",
    "\n",
    "\n",
    "# Toggle to view list\n",
    "# away_team_tactics_list\n",
    "\n",
    "\n",
    "home_team_tactics_list = []\n",
    "\n",
    "for h in range(len(match_df[\"home_team_statistics\"])):\n",
    "    home_tactics = match_df[\"home_team_statistics\"][h][\"tactics\"]\n",
    "    home_team_tactics_list.append(home_tactics)\n",
    "    \n",
    "# Toggle to view list\n",
    "# home_team_tactics_list"
   ]
  },
  {
   "cell_type": "markdown",
   "metadata": {},
   "source": [
    "## Retreive Country Data "
   ]
  },
  {
   "cell_type": "code",
   "execution_count": null,
   "metadata": {},
   "outputs": [],
   "source": [
    "# build list of away team's countries\n",
    "country_list_away = []\n",
    "\n",
    "for ac in range(len(match_df[\"away_team_statistics\"])):\n",
    "    away_country = match_df[\"away_team_statistics\"][ac][\"country\"]\n",
    "    country_list_away.append(away_country)\n",
    "    \n",
    "# toggle to view list\n",
    "# country_list_away\n",
    "\n",
    "# build list of home team's countries\n",
    "country_list_home = []\n",
    "\n",
    "for hc in range(len(match_df[\"home_team_statistics\"])):\n",
    "    home_country = match_df[\"home_team_statistics\"][hc][\"country\"]\n",
    "    country_list_home.append(home_country)\n",
    "    \n",
    "# toggle to view list\n",
    "# country_list_home"
   ]
  },
  {
   "cell_type": "markdown",
   "metadata": {},
   "source": [
    "## Assemble Tactics Data Frame"
   ]
  },
  {
   "cell_type": "code",
   "execution_count": null,
   "metadata": {},
   "outputs": [],
   "source": [
    "\n",
    "# build tactics FIFA 2018 Tactics DataFrame# build \n",
    "tactics_df = pd.DataFrame({\n",
    "    \"Home Country\": country_list_home,\n",
    "    \"Home Country Tactics\": home_team_tactics_list,\n",
    "    \"Away Country\": country_list_away,\n",
    "    \"Away Country Tactics\": away_team_tactics_list,\n",
    "    \"Winner\": match_df.iloc[:,-2]\n",
    "})\n",
    "\n",
    "tactics_df.head(5)"
   ]
  },
  {
   "cell_type": "code",
   "execution_count": null,
   "metadata": {},
   "outputs": [],
   "source": [
    "#set up new set of series with 1 or 0 showing if the tactic was used in a particular game\n",
    "\n",
    "\n",
    "for f in range(len(tactics_df[\"Winner\"])): \n",
    "    \n",
    "    if (tactics_df.loc[f,\"Home Country Tactics\"])== \"3-4-2-1\" and (tactics_df.loc[f,\"Away Country Tactics\"]) == \"3-4-2-1\":\n",
    "        tactics_df.loc[f, \"3-4-2-1\"] = 2\n",
    "    \n",
    "    elif tactics_df.loc[f,\"Home Country Tactics\"] == \"3-4-2-1\":\n",
    "        tactics_df.loc[f, \"3-4-2-1\"] = 1\n",
    "        \n",
    "    elif tactics_df.loc[f,\"Away Country Tactics\"] == \"3-4-2-1\":\n",
    "        tactics_df.loc[f, \"3-4-2-1\"] = 1\n",
    "        \n",
    "    else:\n",
    "        tactics_df.loc[f, \"3-4-3\"] = 0        \n",
    "\n",
    "for f in range(len(tactics_df[\"Winner\"])): \n",
    "    \n",
    "    if (tactics_df.loc[f,\"Home Country Tactics\"])== \"3-4-3\" and (tactics_df.loc[f,\"Away Country Tactics\"]) == \"3-4-3\":\n",
    "        tactics_df.loc[f, \"3-4-3\"] = 2\n",
    "    \n",
    "    elif tactics_df.loc[f,\"Home Country Tactics\"] == \"3-4-3\":\n",
    "        tactics_df.loc[f, \"3-4-3\"] = 1\n",
    "        \n",
    "    elif tactics_df.loc[f,\"Away Country Tactics\"] == \"3-4-3\":\n",
    "        tactics_df.loc[f, \"3-4-3\"] = 1\n",
    "        \n",
    "    else:\n",
    "        tactics_df.loc[f, \"3-4-3\"] = 0\n",
    "\n",
    "for f in range(len(tactics_df[\"Winner\"])): \n",
    "    \n",
    "    if (tactics_df.loc[f,\"Home Country Tactics\"])== \"3-5-2\" and (tactics_df.loc[f,\"Away Country Tactics\"]) == \"3-5-2\":\n",
    "        tactics_df.loc[f, \"3-5-2\"] = 2\n",
    "    \n",
    "    elif tactics_df.loc[f,\"Home Country Tactics\"] == \"3-5-2\":\n",
    "        tactics_df.loc[f, \"3-5-2\"] = 1\n",
    "        \n",
    "    elif tactics_df.loc[f,\"Away Country Tactics\"] == \"3-5-2\":\n",
    "        tactics_df.loc[f, \"3-5-2\"] = 1\n",
    "        \n",
    "    else:\n",
    "        tactics_df.loc[f, \"3-5-2\"] = 0       \n",
    "\n",
    "for f in range(len(tactics_df[\"Winner\"])): \n",
    "    \n",
    "    if (tactics_df.loc[f,\"Home Country Tactics\"])== \"4-2-3-1\" and (tactics_df.loc[f,\"Away Country Tactics\"]) == \"4-2-3-1\":\n",
    "        tactics_df.loc[f, \"4-2-3-1\"] = 2\n",
    "    \n",
    "    elif tactics_df.loc[f,\"Home Country Tactics\"] == \"4-2-3-1\":\n",
    "        tactics_df.loc[f, \"4-2-3-1\"] = 1\n",
    "        \n",
    "    elif tactics_df.loc[f,\"Away Country Tactics\"] == \"4-2-3-1\":\n",
    "        tactics_df.loc[f, \"4-2-3-1\"] = 1\n",
    "        \n",
    "    else:\n",
    "        tactics_df.loc[f, \"4-2-3-1\"] = 0\n",
    "\n",
    "\n",
    "for f in range(len(tactics_df[\"Winner\"])): \n",
    "    \n",
    "    if (tactics_df.loc[f,\"Home Country Tactics\"])== \"4-3-2-1\" and (tactics_df.loc[f,\"Away Country Tactics\"]) == \"4-3-2-1\":\n",
    "        tactics_df.loc[f, \"4-3-2-1\"] = 2\n",
    "    \n",
    "    elif tactics_df.loc[f,\"Home Country Tactics\"] == \"4-3-2-1\":\n",
    "        tactics_df.loc[f, \"4-3-2-1\"] = 1\n",
    "        \n",
    "    elif tactics_df.loc[f,\"Away Country Tactics\"] == \"4-3-2-1\":\n",
    "        tactics_df.loc[f, \"4-3-2-1\"] = 1\n",
    "        \n",
    "    else:\n",
    "        tactics_df.loc[f, \"4-3-2-1\"] = 0\n",
    "\n",
    "for f in range(len(tactics_df[\"Winner\"])): \n",
    "    \n",
    "    if (tactics_df.loc[f,\"Home Country Tactics\"])== \"4-3-3\" and (tactics_df.loc[f,\"Away Country Tactics\"]) == \"4-3-3\":\n",
    "        tactics_df.loc[f, \"4-3-3\"] = 2\n",
    "    \n",
    "    elif tactics_df.loc[f,\"Home Country Tactics\"] == \"4-3-3\":\n",
    "        tactics_df.loc[f, \"4-3-3\"] = 1\n",
    "        \n",
    "    elif tactics_df.loc[f,\"Away Country Tactics\"] == \"4-3-3\":\n",
    "        tactics_df.loc[f, \"4-3-3\"] = 1\n",
    "        \n",
    "    else:\n",
    "        tactics_df.loc[f, \"4-3-3\"] = 0\n",
    "\n",
    "\n",
    "for f in range(len(tactics_df[\"Winner\"])): \n",
    "    \n",
    "    if (tactics_df.loc[f,\"Home Country Tactics\"])== \"4-4-2\" and (tactics_df.loc[f,\"Away Country Tactics\"]) == \"4-4-2\":\n",
    "        tactics_df.loc[f, \"4-4-2\"] = 2\n",
    "    \n",
    "    elif tactics_df.loc[f,\"Home Country Tactics\"] == \"4-4-2\":\n",
    "        tactics_df.loc[f, \"4-4-2\"] = 1\n",
    "        \n",
    "    elif tactics_df.loc[f,\"Away Country Tactics\"] == \"4-4-2\":\n",
    "        tactics_df.loc[f, \"4-4-2\"] = 1\n",
    "        \n",
    "    else:\n",
    "        tactics_df.loc[f, \"4-4-2\"] = 0   \n",
    "\n",
    "for f in range(len(tactics_df[\"Winner\"])): \n",
    "    \n",
    "    if (tactics_df.loc[f,\"Home Country Tactics\"])== \"4-5-1\" and (tactics_df.loc[f,\"Away Country Tactics\"]) == \"4-5-1\":\n",
    "        tactics_df.loc[f, \"4-5-1\"] = 2\n",
    "    \n",
    "    elif tactics_df.loc[f,\"Home Country Tactics\"] == \"4-5-1\":\n",
    "        tactics_df.loc[f, \"4-5-1\"] = 1\n",
    "        \n",
    "    elif tactics_df.loc[f,\"Away Country Tactics\"] == \"4-5-1\":\n",
    "        tactics_df.loc[f, \"4-5-1\"] = 1\n",
    "        \n",
    "    else:\n",
    "        tactics_df.loc[f, \"5-4-1\"] = 0\n",
    "\n",
    "for f in range(len(tactics_df[\"Winner\"])): \n",
    "    \n",
    "    if (tactics_df.loc[f,\"Home Country Tactics\"])== \"5-4-1\" and (tactics_df.loc[f,\"Away Country Tactics\"]) == \"5-4-1\":\n",
    "        tactics_df.loc[f, \"5-4-1\"] = 2\n",
    "    \n",
    "    elif tactics_df.loc[f,\"Home Country Tactics\"] == \"5-4-1\":\n",
    "        tactics_df.loc[f, \"5-4-1\"] = 1\n",
    "        \n",
    "    elif tactics_df.loc[f,\"Away Country Tactics\"] == \"5-4-1\":\n",
    "        tactics_df.loc[f, \"5-4-1\"] = 1\n",
    "        \n",
    "    else:\n",
    "        tactics_df.loc[f, \"5-4-1\"] = 0\n",
    "\n",
    "for f in range(len(tactics_df[\"Winner\"])): \n",
    "    \n",
    "    if (tactics_df.loc[f,\"Home Country Tactics\"])== \"5-3-2\" and (tactics_df.loc[f,\"Away Country Tactics\"]) == \"5-3-2\":\n",
    "        tactics_df.loc[f, \"5-3-2\"] = 2\n",
    "    \n",
    "    elif tactics_df.loc[f,\"Home Country Tactics\"] == \"5-3-2\":\n",
    "        tactics_df.loc[f, \"5-3-2\"] = 1\n",
    "        \n",
    "    elif tactics_df.loc[f,\"Away Country Tactics\"] == \"5-3-2\":\n",
    "        tactics_df.loc[f, \"5-3-2\"] = 1\n",
    "        \n",
    "    else:\n",
    "        tactics_df.loc[f, \"5-3-2\"] = 0\n",
    "        \n",
    "\n",
    "        \n",
    "tactics_df.head()"
   ]
  },
  {
   "cell_type": "code",
   "execution_count": null,
   "metadata": {},
   "outputs": [],
   "source": [
    "\n",
    "away_tacticsaway_tac  = tactics_df.groupby([\"Away Country\"])\n",
    "home_tactics = tactics_df.groupby([\"Home Country Tactics\"])\n",
    "atactics = away_tactics.sum()\n",
    "atactics"
   ]
  },
  {
   "cell_type": "code",
   "execution_count": null,
   "metadata": {},
   "outputs": [],
   "source": [
    "# sum of each home tactic\n",
    "htactics = home_tactics.sum()\n",
    "htactics"
   ]
  },
  {
   "cell_type": "code",
   "execution_count": null,
   "metadata": {},
   "outputs": [],
   "source": [
    "\n",
    "# show home country tactics for 3-4-3 tactic# show h \n",
    "tactics_df_3421 = tactics_df.loc[tactics_df[\"Home Country Tactics\"] == \"3-4-3\", :]\n",
    "tactics_df_3421"
   ]
  },
  {
   "cell_type": "code",
   "execution_count": null,
   "metadata": {},
   "outputs": [],
   "source": [
    "# count of tactics used by away teams\n",
    "away_tactics = tactics_df.groupby([\"Away Country Tactics\"])\n",
    "\n",
    "away_tactics = away_tactics.count().head(64)\n",
    "away_tactics = away_tactics[[\"Away Country\"]]\n",
    "away_tactics.reset_index(inplace = True)\n",
    "away_tactics = away_tactics.rename(columns = {\n",
    "    \"Away Country Tactics\": \"Country Tactics\"})\n",
    "away_tactics"
   ]
  },
  {
   "cell_type": "code",
   "execution_count": null,
   "metadata": {},
   "outputs": [],
   "source": [
    "\n",
    "# count of tactics used by home teams# count  \n",
    "home_tactics = tactics_df.groupby([\"Home Country Tactics\"])\n",
    "\n",
    "home_tactics = home_tactics.count().head(64)\n",
    "home_tactics = home_tactics[[\"Away Country\"]]\n",
    "home_tactics.reset_index(inplace = True)\n",
    "home_tactics = home_tactics.rename(columns = {\n",
    "    \"Home Country Tactics\": \"Country Tactics\"})\n",
    "home_tactics"
   ]
  },
  {
   "cell_type": "markdown",
   "metadata": {},
   "source": [
    "## Extract event times for goals\n",
    "-  Create a dictionary for goal times in each stage of the tournament\n",
    "-  Import that dictionary into a dataframe\n",
    "-  Pull data into data frame using a nested for loop"
   ]
  },
  {
   "cell_type": "code",
   "execution_count": null,
   "metadata": {},
   "outputs": [],
   "source": [
    "# set up dicts for goal_times per stage\n",
    "goal_times_dict = {\n",
    "    'First stage':{},\n",
    "    'Round of 16':{},\n",
    "    'Quarter-finals': {},\n",
    "    'Semi-finals': {},\n",
    "    'Play-off for third place':{},\n",
    "    'Final':{} \n",
    "}\n",
    "\n",
    "# create empty DF for ?\n",
    "goal_times_means = pd.DataFrame()\n",
    "\n",
    "# loop through data to get ?\n",
    "for index, match in match_df.iterrows():\n",
    "    \n",
    "    # variables for \n",
    "    home = match['home_team_country']\n",
    "    away = match['away_team_country']\n",
    "    home_event = match['home_team_events']\n",
    "    away_event = match['away_team_events']\n",
    "    team_events = [home_event, away_event]\n",
    "    teams = [home, away]\n",
    "    goal_times = goal_times_dict[match['stage_name']]\n",
    "    \n",
    "    \n",
    "    for events in team_events:\n",
    "        team = teams[team_events.index(events)]\n",
    "        for event in events: \n",
    "            if (event['type_of_event'] == 'goal'):\n",
    "                time = event['time']\n",
    "                time = time.replace(\"'\", \"\")\n",
    "                \n",
    "                try:\n",
    "                    time = int(time)\n",
    "                except:\n",
    "                    time = eval(time)\n",
    "                    \n",
    "                if team in goal_times:\n",
    "                    goal_times[team].append(time)\n",
    "                else:\n",
    "                    goal_times[team] = []\n",
    "                    goal_times[team].append(time)\n",
    "            else:\n",
    "                continue\n",
    "\n",
    "for stage in goal_times_dict:\n",
    "    for country in goal_times_dict[stage]:\n",
    "        goal_times_means.loc[country, stage] = np.mean(goal_times_dict[stage][country])"
   ]
  },
  {
   "cell_type": "markdown",
   "metadata": {},
   "source": [
    "## Combine data from all stages\n",
    "-  Create a list variable to hold data gathered in the following for loop\n",
    "-  For loop gathers data from each stage of the tournament for a particular team\n",
    "-  Take the average of the list to get the cumulative average scoring time\n",
    "-  Append these values to a new column in the df"
   ]
  },
  {
   "cell_type": "code",
   "execution_count": null,
   "metadata": {},
   "outputs": [],
   "source": [
    "combined_avg = []\n",
    "\n",
    "for x in range(len(goal_times_means)):\n",
    "    temp_avg = goal_times_means.iloc[x].dropna()\n",
    "    temp_avg = temp_avg.mean()\n",
    "    combined_avg.append(temp_avg)\n",
    "    \n",
    "goal_times_means[\"combined_avg\"] = combined_avg"
   ]
  },
  {
   "cell_type": "markdown",
   "metadata": {},
   "source": [
    "## Merge data of interest into the df\n",
    "-  Wins\n",
    "-  Points\n",
    "-  Goal Differential\n",
    "-  Losses\n",
    "-  Goals Against"
   ]
  },
  {
   "cell_type": "code",
   "execution_count": null,
   "metadata": {},
   "outputs": [],
   "source": [
    "reindexed_combined_df = goal_times_means.reset_index()\n",
    "reindexed_combined_df = reindexed_combined_df.rename(index=str, columns={\"index\": \"country\"})\n",
    "merged_df = pd.merge(reindexed_combined_df, teams_df[[\"country\", \"wins\"]], on = \"country\", how = \"left\")\n",
    "merged_df = pd.merge(merged_df,teams_df[['country','points']],on='country', how='left')\n",
    "merged_df = pd.merge(merged_df,teams_df[['country','goal_differential']],on='country', how='left')\n",
    "merged_df = pd.merge(merged_df,teams_df[['country','losses']],on='country', how='left')\n",
    "merged_df = pd.merge(merged_df,teams_df[['country','goals_against']],on='country', how='left')\n",
    "merged_df.head(2)"
   ]
  },
  {
   "cell_type": "markdown",
   "metadata": {},
   "source": [
    "## Construct statlist\n",
    "-  set up empty list and append to it\n",
    "-  get passes completed for the away team\n",
    "-  get passes completed for the home team\n",
    "-  build passes completed including country\n",
    "-  concat both dataframes together to make one long list"
   ]
  },
  {
   "cell_type": "code",
   "execution_count": null,
   "metadata": {},
   "outputs": [],
   "source": [
    "statslist = [\"passes_completed\", \"attempts_on_goal\",\"ball_possession\", \"pass_accuracy\",\n",
    "             \"balls_recovered\", \"distance_covered\", \"tackles\", \"fouls_committed\"]\n",
    "\n",
    "big_df = pd.DataFrame()\n",
    "\n",
    "for stat in statslist:\n",
    "    \n",
    "    completed_passes_a = []\n",
    "\n",
    "    for s in range(len(match_df[\"away_team_statistics\"])):\n",
    "        passes = match_df[\"away_team_statistics\"][s][stat]\n",
    "        completed_passes_a.append(passes)\n",
    "    \n",
    "    completed_passes_h = []\n",
    "\n",
    "    for s in range(len(match_df[\"home_team_statistics\"])):\n",
    "        passes = match_df[\"home_team_statistics\"][s][stat]\n",
    "        completed_passes_h.append(passes)\n",
    "    #completed_passes_h\n",
    "    \n",
    "    # concat both dataframes together to make one long list\n",
    "    away_df = pd.DataFrame({\"Country\": match_df[\"away_team_country\"], \n",
    "                           f\"{stat}\": completed_passes_a})\n",
    "    home_df = pd.DataFrame({\"Country\": match_df[\"home_team_country\"],\n",
    "                           f\"{stat}\": completed_passes_h})\n",
    "    #    \"Country\": match_df[\"away_team_country\"],\n",
    "    #    \"Passes Completed\": completed_passes_a})\n",
    "\n",
    "    #passes_completed_df_h = pd.DataFrame({\n",
    "     #   \"Country\": match_df[\"home_team_country\"],\n",
    "      #  \"Passes Completed\": completed_passes_h})\n",
    "    #concating the two df together\n",
    "    concat = away_df.append(home_df, ignore_index=True, verify_integrity=False, sort=None)\n",
    "    big_df[stat] = concat[stat]\n",
    "    big_df[\"Country\"] = concat['Country']\n",
    "    \n",
    "big_df.head()"
   ]
  },
  {
   "cell_type": "code",
   "execution_count": null,
   "metadata": {},
   "outputs": [],
   "source": [
    "# toggle to view away_team_statistics indeces json layout\n",
    "\n",
    "match_df.iloc[0,4]"
   ]
  },
  {
   "cell_type": "markdown",
   "metadata": {},
   "source": [
    "## Build Pass Completed Data Frame\n",
    "-  build passes completed including country\n",
    "-  concat both dataframes together to make one long list"
   ]
  },
  {
   "cell_type": "code",
   "execution_count": null,
   "metadata": {},
   "outputs": [],
   "source": [
    "passes_completed_df_a = pd.DataFrame({\n",
    "    \"Country\": match_df[\"away_team_country\"],\n",
    "    \"Passes Completed\": completed_passes_a})\n",
    "\n",
    "passes_completed_df_h = pd.DataFrame({\n",
    "    \"Country\": match_df[\"home_team_country\"],\n",
    "    \"Passes Completed\": completed_passes_h})\n",
    "\n",
    "#concating the two df together\n",
    "concat = passes_completed_df_a.append(passes_completed_df_h, ignore_index=True, verify_integrity=False, sort=None)\n",
    "concat.head()"
   ]
  },
  {
   "cell_type": "markdown",
   "metadata": {},
   "source": [
    "## Find total number of games played by each country"
   ]
  },
  {
   "cell_type": "code",
   "execution_count": null,
   "metadata": {},
   "outputs": [],
   "source": [
    "num_of_games = big_df[\"Country\"].value_counts()\n",
    "num_of_games"
   ]
  },
  {
   "cell_type": "markdown",
   "metadata": {},
   "source": [
    "## Group by Country\n",
    "-  sum on the groupby country\n",
    "-  rename series title\n",
    "-  took country out of undex and set index back to numerals\n",
    "-  set up new series with avg shots per game by dividing total shots by number of games"
   ]
  },
  {
   "cell_type": "code",
   "execution_count": null,
   "metadata": {},
   "outputs": [],
   "source": [
    "groups = big_df.groupby(\"Country\", as_index = True).sum()\n",
    "\n",
    "\n",
    "groups[\"Number of Games\"] = num_of_games\n",
    "\n",
    "\n",
    "groups.reset_index(inplace = True)\n",
    "\n",
    "for stat in statslist:\n",
    "\n",
    "    groups[f\"Avg {stat}\"] = round(groups[stat]/groups[\"Number of Games\"], 1)\n",
    "groups.head()"
   ]
  },
  {
   "cell_type": "markdown",
   "metadata": {},
   "source": [
    "## Getting first goal time of each game for each team "
   ]
  },
  {
   "cell_type": "code",
   "execution_count": null,
   "metadata": {
    "scrolled": true
   },
   "outputs": [],
   "source": [
    "Goals_df = pd.DataFrame()\n",
    "first_goal_away = []\n",
    "for s in range(len(match_df[\"away_team_events\"])):\n",
    "    events = match_df[\"away_team_events\"][s]\n",
    "    match_goals=[]\n",
    "    for event in events:\n",
    "        if (event['type_of_event'] == 'goal'):\n",
    "            time = event['time']\n",
    "            time = time.replace(\"'\", \"\")\n",
    "            try:\n",
    "                time = int(time)\n",
    "            except:\n",
    "                time = eval(time) \n",
    "            match_goals.append(time)\n",
    "        elif(event['type_of_event'] == 'goal-penalty'):\n",
    "            time = event['time']\n",
    "            time = time.replace(\"'\", \"\")\n",
    "            try:\n",
    "                time = int(time)\n",
    "            except:\n",
    "                time = eval(time)\n",
    "            match_goals.append(time)\n",
    "        else:\n",
    "            continue\n",
    "    if(len(match_goals)>0):\n",
    "        first_goal_away.append(min(match_goals))\n",
    "    else:\n",
    "        first_goal_away.append(0)\n",
    "        \n",
    "first_goal_home = []\n",
    "    \n",
    "for s in range(len(match_df[\"home_team_events\"])):\n",
    "    events = match_df[\"home_team_events\"][s]\n",
    "    match_goals=[]\n",
    "    for event in events:\n",
    "        if (event['type_of_event'] == 'goal'):\n",
    "            time = event['time']\n",
    "            time = time.replace(\"'\", \"\")\n",
    "            try:\n",
    "                time = int(time)\n",
    "            except:\n",
    "                time = eval(time) \n",
    "            match_goals.append(time)\n",
    "        elif(event['type_of_event'] == 'goal-penalty'):\n",
    "            time = event['time']\n",
    "            time = time.replace(\"'\", \"\")\n",
    "            try:\n",
    "                time = int(time)\n",
    "            except:\n",
    "                time = eval(time)\n",
    "            match_goals.append(time)\n",
    "        else:\n",
    "            continue\n",
    "            #print(match_goals)\n",
    "    if (len(match_goals)>0):\n",
    "        first_goal_home.append(min(match_goals))\n",
    "    else:\n",
    "        first_goal_home.append(0)\n",
    "        \n",
    "    \n",
    "away_df = pd.DataFrame({\"Country\": match_df[\"away_team_country\"], \n",
    "                           \"First goals\": first_goal_away})\n",
    "home_df = pd.DataFrame({\"Country\": match_df[\"home_team_country\"],\n",
    "                           \"First goals\": first_goal_home})\n",
    "\n",
    "concat = away_df.append(home_df, ignore_index=True, verify_integrity=False, sort=None)\n",
    "Goals_df[\"First Goals\"] = concat[\"First goals\"]\n",
    "Goals_df[\"Country\"] = concat['Country']\n",
    "\n",
    "#Goals_df"
   ]
  },
  {
   "cell_type": "code",
   "execution_count": null,
   "metadata": {},
   "outputs": [],
   "source": [
    "Goals_df_dropped= Goals_df[Goals_df['First Goals']!=0]\n",
    "goal_means = Goals_df_dropped.groupby('Country', as_index = False).mean()"
   ]
  },
  {
   "cell_type": "markdown",
   "metadata": {},
   "source": [
    "# 2. Visualize the Data"
   ]
  },
  {
   "cell_type": "markdown",
   "metadata": {},
   "source": [
    "## Chart Squad Stats\n",
    "-  Average Age for Teams\n",
    "-  Average Height for Teams\n",
    "-  Average Weight for Teams\n",
    "-  Average Caps for Teams"
   ]
  },
  {
   "cell_type": "code",
   "execution_count": null,
   "metadata": {},
   "outputs": [],
   "source": [
    "# Average Age for Teams\n",
    "plt.rcParams[\"figure.dpi\"] = 400\n",
    "plt.style.use('fivethirtyeight')\n",
    "g1.sort_values(by=\"Age\", inplace=True)\n",
    "\n",
    "ax = g1[['Age']].plot(figsize = (20, 12),kind=\"barh\")\n",
    "ax.set_xlabel(\"AGE\")\n",
    "ax.set_ylabel(\"COUNTRY\")\n",
    "ax.set_xlim(15,30)\n",
    "plt.title(\"World Cup 2018 Team Player Average Age\", fontsize=25)\n",
    "plt.axvline(27,c=\"darkmagenta\",linestyle=\"dashdot\", linewidth=5)  #Average Age for ALL Players\n",
    "plt.legend([\"All Teams Avg. Age\",\"Team Avg. Age\"], loc=0)\n",
    "plt.savefig(\"Avg_Age.png\",orientation='landscape',format=\"png\",dpi=100)"
   ]
  },
  {
   "cell_type": "code",
   "execution_count": null,
   "metadata": {},
   "outputs": [],
   "source": [
    "# Average Height for Teams\n",
    "plt.rcParams[\"figure.dpi\"] = 400\n",
    "plt.style.use('fivethirtyeight')\n",
    "g1.sort_values(by=\"Height\", inplace=True)\n",
    "\n",
    "ax = g1[[\"Height\"]].plot(figsize = (20, 12),kind=\"barh\")\n",
    "ax.set_xlabel(\"HEIGHT (cm)\")\n",
    "ax.set_ylabel(\"COUNTRY\")\n",
    "ax.set_xlim(155,190)\n",
    "plt.title(\"World Cup 2018 Team Player Average Height\", fontsize=25)\n",
    "plt.axvline(182,c=\"darkmagenta\",linestyle=\"dashdot\", linewidth=5)  #Average for ALL Players\n",
    "plt.legend([\"All Teams Avg. Height\",\"Team Avg. Height\"], loc=0)\n",
    "plt.savefig(\"Avg_Height.png\",orientation='landscape',format=\"png\",dpi=100)"
   ]
  },
  {
   "cell_type": "code",
   "execution_count": null,
   "metadata": {},
   "outputs": [],
   "source": [
    "# Average Weight for Teams\n",
    "plt.rcParams[\"figure.dpi\"] = 400\n",
    "plt.style.use('fivethirtyeight')\n",
    "g1.sort_values(by=\"Weight\", inplace=True)\n",
    "\n",
    "ax = g1[[\"Weight\"]].plot(figsize = (20, 12),kind=\"barh\")\n",
    "ax.set_xlabel(\"WEIGHT (kg)\")\n",
    "ax.set_ylabel(\"COUNTRY\")\n",
    "ax.set_xlim(69,84)\n",
    "plt.title(\"World Cup 2018 Team Player Average Weight\", fontsize=25)\n",
    "plt.axvline(77.2,c=\"darkmagenta\",linestyle=\"dashdot\", linewidth=5)  #Average for ALL Players\n",
    "plt.legend([\"All Teams Avg. Weight\",\"Team Avg. Weight\"], loc=0)\n",
    "plt.savefig(\"Avg_Weight.png\",orientation='landscape',format=\"png\",dpi=100)"
   ]
  },
  {
   "cell_type": "code",
   "execution_count": null,
   "metadata": {},
   "outputs": [],
   "source": [
    "# Average Caps for Teams\n",
    "plt.rcParams[\"figure.dpi\"] = 400\n",
    "plt.style.use('fivethirtyeight')\n",
    "g1.sort_values(by=\"Caps\", inplace=True)\n",
    "\n",
    "ax = g1[[\"Caps\"]].plot(figsize = (20, 12),kind=\"barh\")\n",
    "ax.set_xlabel(\"CAPS = Number International Level Appearances\")\n",
    "ax.set_ylabel(\"COUNTRY\")\n",
    "ax.set_xlim(18,63)\n",
    "plt.title(\"World Cup 2018 Team Player Average Caps\", fontsize=25)\n",
    "\n",
    "plt.axvline(34.66,c=\"darkmagenta\",linestyle=\"dashdot\", linewidth=5)  #Average for ALL Players\n",
    "plt.legend([\"All Teams Avg. Caps\",\"Team Avg. Caps\"], loc=0)\n",
    "plt.savefig(\"Avg_Caps.png\",orientation='landscape',format=\"png\",dpi=100)"
   ]
  },
  {
   "cell_type": "markdown",
   "metadata": {},
   "source": [
    "## Graph Regressions\n",
    "-  Define Column variables to be called in plotting code\n",
    "-  Construct regression plots for Goal time data vs. columns added to data frame above"
   ]
  },
  {
   "cell_type": "code",
   "execution_count": null,
   "metadata": {},
   "outputs": [],
   "source": [
    "combined_times_means = merged_df[\"combined_avg\"]\n",
    "team_wins = merged_df[\"wins\"]\n",
    "team_points = merged_df[\"points\"]\n",
    "differential = merged_df[\"goal_differential\"]\n",
    "points_allowed = merged_df[\"goals_against\"]\n",
    "team_losses = merged_df[\"losses\"]"
   ]
  },
  {
   "cell_type": "code",
   "execution_count": null,
   "metadata": {},
   "outputs": [],
   "source": [
    "# get plt style\n",
    "plt.style.use('fivethirtyeight')\n",
    "merged_df['colors'] = 'royalblue'\n",
    "fig, ax = plt.subplots(figsize = (10,8))\n",
    "\n",
    "\n",
    "slope, intercept, r_value, p_value, std_err = scipy.linregress(merged_df[\"combined_avg\"], team_wins)\n",
    "\n",
    "z = np.polyfit(merged_df[\"combined_avg\"], team_wins, 1)\n",
    "p = np.poly1d(z)\n",
    "\n",
    "# set title and axis labels\n",
    "plt.ylabel(\"Wins\", fontsize=18)\n",
    "plt.xlabel(\"time (min)\", fontsize=18)\n",
    "plt.title(\"Time Data vs. Wins\", color = \"black\")\n",
    "\n",
    "# isolate France and make crimson\n",
    "merged_df.loc[merged_df[\"country\"]==\"France\",'colors'] = 'crimson'\n",
    "\n",
    "# color remaining top 8 teams green\n",
    "merged_df.loc[merged_df[\"country\"] == \"Russia\", 'colors'] = \"g\"\n",
    "merged_df.loc[merged_df[\"country\"] == \"Croatia\", 'colors'] = \"g\"\n",
    "merged_df.loc[merged_df[\"country\"] == \"Uruguay\", 'colors'] = \"g\"\n",
    "merged_df.loc[merged_df[\"country\"] == \"Sweden\", 'colors'] = \"g\"\n",
    "merged_df.loc[merged_df[\"country\"] == \"England\", 'colors'] = \"g\"\n",
    "merged_df.loc[merged_df[\"country\"] == \"Brazil\", 'colors'] = \"g\"\n",
    "merged_df.loc[merged_df[\"country\"] == \"Belgium\", 'colors'] = \"g\"\n",
    "\n",
    "# plot line\n",
    "plt.plot(merged_df[\"combined_avg\"],p(merged_df[\"combined_avg\"]),\"darkmagenta\")\n",
    "\n",
    "# plot scatter plot\n",
    "plt.scatter(merged_df[\"combined_avg\"],team_wins, color = merged_df.colors,\n",
    "            marker = \"o\",\n",
    "            s = 400,\n",
    "            edgecolors = \"black\",\n",
    "            alpha = .6\n",
    "           )\n",
    "\n",
    "\n",
    "\n",
    "# set title and axis labels\n",
    "plt.ylabel(\"Wins\", fontsize=18)\n",
    "plt.xlabel(\"time (min)\", fontsize=18)\n",
    "plt.title(\"Mean Goal Times vs Wins\", color = \"black\")\n",
    "\n",
    "plt.savefig(\"Mean Goal Times vs Wins FIFA 2018.png\")\n",
    "plt.show()\n",
    "\n",
    "# print r and p value\n",
    "print(f\"R-value: {r_value}, P-value: {p_value})\")\n",
    "\n",
    "# plt.savefig(\"TimeVsWin.jpg\",orientation='landscape',format=\"jpg\",dpi=1000)"
   ]
  },
  {
   "cell_type": "markdown",
   "metadata": {},
   "source": [
    "### Average time of a Goal scored Vs. Number of wins by team\n",
    "-  **Hypothesis**: A team that typically scores earlier may benefit from a demoralizing effect on the opposing team of having to play from behind. \n",
    "-  **Results**: The graph suggests that there is no significant relationship between the average time that a particular team scores a goal and their number of wins over the course of the tournament.\n",
    "-  **Conclusion**: Players competing at this high level are mentally resilient enough to be able to play from behind with no significant negative effect on their performance, meaning that the outcome remains skill based regardless of any “mind games” employed intentionally or otherwise."
   ]
  },
  {
   "cell_type": "code",
   "execution_count": null,
   "metadata": {},
   "outputs": [],
   "source": []
  },
  {
   "cell_type": "code",
   "execution_count": null,
   "metadata": {},
   "outputs": [],
   "source": [
    "# rename column titles in groups DataFrame\n",
    "groups.columns = ['Country', 'Passes Completed', 'Goal Attempts', 'Ball Possession', 'Pass Accuracy', 'Balls Recovered',\n",
    "                  'Distance Covered', 'Tackles','Fouls Committed', 'Number of Games', 'Avg Passes Completed', 'Avg Goal Attempts',\n",
    "                  'Avg Ball Possesion', 'Avg Pass Accuracy', 'Avg Balls Recovered', 'Avg Distance Covered', 'Avg Tackles', 'Avg Fouls Committed']\n",
    "\n",
    "# make column list to iterate through in for loop\n",
    "columnlist = ['Avg Passes Completed', 'Avg Goal Attempts', 'Avg Ball Possesion', 'Avg Pass Accuracy',\n",
    "              'Avg Balls Recovered', 'Avg Distance Covered', 'Avg Tackles', 'Avg Fouls Committed' ]\n",
    "\n",
    "# make x axis labels list to iterate through in for loop\n",
    "x_label_list = ['passes per game', 'goal attempts per game', 'min per game', 'percentage completed per game',\n",
    "                'recovered per game', ' km per game', 'tackles per game', 'avg fouls per game']\n",
    "\n",
    "# for loop to create six graphs\n",
    "for column in columnlist:  \n",
    "    # plot the average shots per game\n",
    "    fig, ax = plt.subplots(figsize = (20,10))\n",
    "    # get plt style\n",
    "    plt.style.use('fivethirtyeight')\n",
    "    # set colors for graph\n",
    "    groups['colors'] = 'royalblue'\n",
    "    # set France to red and other top 8 to green\n",
    "    groups.loc[groups[\"Country\"]==\"France\",'colors'] = 'crimson'\n",
    "    groups.loc[groups[\"Country\"] == \"Russia\", 'colors'] = \"g\"\n",
    "    groups.loc[groups[\"Country\"] == \"Croatia\", 'colors'] = \"g\"\n",
    "    groups.loc[groups[\"Country\"] == \"Uruguay\", 'colors'] = \"g\"\n",
    "    groups.loc[groups[\"Country\"] == \"Sweden\", 'colors'] = \"g\"\n",
    "    groups.loc[groups[\"Country\"] == \"England\", 'colors'] = \"g\"\n",
    "    groups.loc[groups[\"Country\"] == \"Brazil\", 'colors'] = \"g\"\n",
    "    groups.loc[groups[\"Country\"] == \"Belgium\", 'colors'] = \"g\"\n",
    "    \n",
    "    # order grpahs by mean\n",
    "    groups.sort_values(by=column, inplace=True)\n",
    "    \n",
    "    # set up graphs\n",
    "    plt.barh(groups[\"Country\"],\n",
    "             groups[column],\n",
    "             align ='center',\n",
    "             color=groups.colors,\n",
    "             height = .75)\n",
    "    \n",
    "    # set mean vertical line on each graph\n",
    "    plt.axvline(groups[column].mean(), color='darkmagenta', linestyle='--')\n",
    "\n",
    "    #set graph titles and x axis labels\n",
    "    plt.xlabel(x_label_list[columnlist.index(column)], fontsize=18)\n",
    "    plt.title(f\"{column} FIFA 2018\", \n",
    "              color = \"black\")\n",
    "\n",
    "    # set y value ticks\n",
    "    plt.yticks(np.arange(32),groups[\"Country\"], rotation = 0)\n",
    "    plt.savefig(f\"{column} FIFA 2018.png\")"
   ]
  },
  {
   "cell_type": "code",
   "execution_count": null,
   "metadata": {},
   "outputs": [],
   "source": []
  },
  {
   "cell_type": "code",
   "execution_count": null,
   "metadata": {},
   "outputs": [],
   "source": [
    "\n",
    "#plot first goal means for each team\n",
    "fig, ax = plt.subplots(figsize = (20,10))\n",
    "# get plt style\n",
    "plt.style.use('fivethirtyeight')\n",
    "# set colors for graph\n",
    "goal_means['colors'] = 'royalblue'\n",
    "# set France to red and other top 8 to green\n",
    "goal_means.loc[goal_means[\"Country\"]==\"France\",'colors'] = 'crimson'\n",
    "goal_means.loc[goal_means[\"Country\"] == \"Russia\", 'colors'] = \"g\"\n",
    "goal_means.loc[goal_means[\"Country\"] == \"Croatia\", 'colors'] = \"g\"\n",
    "goal_means.loc[goal_means[\"Country\"] == \"Uruguay\", 'colors'] = \"g\"\n",
    "goal_means.loc[goal_means[\"Country\"] == \"Sweden\", 'colors'] = \"g\"\n",
    "goal_means.loc[goal_means[\"Country\"] == \"England\", 'colors'] = \"g\"\n",
    "goal_means.loc[goal_means[\"Country\"] == \"Brazil\", 'colors'] = \"g\"\n",
    "goal_means.loc[goal_means[\"Country\"] == \"Belgium\", 'colors'] = \"g\"\n",
    "    \n",
    "    # order grpahs by mean\n",
    "goal_means.sort_values(by='First Goals', inplace=True)\n",
    "    \n",
    "    # set up graphs\n",
    "plt.barh(goal_means[\"Country\"],\n",
    "        goal_means[\"First Goals\"],\n",
    "         align ='center',\n",
    "         color=goal_means.colors,\n",
    "         height = .75)\n",
    "    \n",
    "    # set mean vertical line on each graph\n",
    "plt.axvline(goal_means[\"First Goals\"].mean(), color='darkmagenta', linestyle='--')\n",
    "\n",
    "    #set graph titles and x axis labels\n",
    "plt.xlabel(\"Average time of First Game Goal\", fontsize=18)\n",
    "plt.title(\"First Goals FIFA 2018\", \n",
    "           color = \"black\")\n",
    "\n",
    "    # set y value ticks\n",
    "plt.yticks(np.arange(32),goal_means[\"Country\"], rotation = 0)\n",
    "plt.savefig(f\"First Goals FIFA 2018.png\")"
   ]
  },
  {
   "cell_type": "code",
   "execution_count": null,
   "metadata": {},
   "outputs": [],
   "source": []
  }
 ],
 "metadata": {
  "kernelspec": {
   "display_name": "Python 3",
   "language": "python",
   "name": "python3"
  },
  "language_info": {
   "codemirror_mode": {
    "name": "ipython",
    "version": 3
   },
   "file_extension": ".py",
   "mimetype": "text/x-python",
   "name": "python",
   "nbconvert_exporter": "python",
   "pygments_lexer": "ipython3",
   "version": "3.6.4"
  }
 },
 "nbformat": 4,
 "nbformat_minor": 2
}
