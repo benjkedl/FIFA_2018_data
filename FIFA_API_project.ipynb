{
 "cells": [
  {
   "cell_type": "code",
   "execution_count": 8,
   "metadata": {},
   "outputs": [],
   "source": [
    "import requests\n",
    "import tweepy\n",
    "import pandas as pd\n",
    "import numpy as np\n",
    "import matplotlib.pyplot as plt\n",
    "from config import \n",
    "\n",
    "g_url = 'https://maps.googleapis.com/maps/api/geocode/json?&address='\n",
    "fifa_url = 'https://worldcup.sfg.io/teams/results'\n"
   ]
  },
  {
   "cell_type": "code",
   "execution_count": 28,
   "metadata": {},
   "outputs": [
    {
     "data": {
      "text/plain": [
       "{'destination_addresses': ['San Diego, CA, USA'],\n",
       " 'origin_addresses': ['Denver, CO, USA'],\n",
       " 'rows': [{'elements': [{'distance': {'text': '1,078 mi', 'value': 1734714},\n",
       "     'duration': {'text': '15 hours 43 mins', 'value': 56580},\n",
       "     'status': 'OK'}]}],\n",
       " 'status': 'OK'}"
      ]
     },
     "execution_count": 28,
     "metadata": {},
     "output_type": "execute_result"
    }
   ],
   "source": [
    "country1 ='denver'\n",
    "country2 = 'san diego'\n",
    "response = requests.get(dir_url + country1 + '&destinations='+ country2 + '&apikey=' + g_key).json()\n",
    "response"
   ]
  },
  {
   "cell_type": "code",
   "execution_count": 59,
   "metadata": {
    "scrolled": true
   },
   "outputs": [
    {
     "data": {
      "text/html": [
       "<div>\n",
       "<style scoped>\n",
       "    .dataframe tbody tr th:only-of-type {\n",
       "        vertical-align: middle;\n",
       "    }\n",
       "\n",
       "    .dataframe tbody tr th {\n",
       "        vertical-align: top;\n",
       "    }\n",
       "\n",
       "    .dataframe thead th {\n",
       "        text-align: right;\n",
       "    }\n",
       "</style>\n",
       "<table border=\"1\" class=\"dataframe\">\n",
       "  <thead>\n",
       "    <tr style=\"text-align: right;\">\n",
       "      <th></th>\n",
       "      <th>country</th>\n",
       "      <th>draws</th>\n",
       "      <th>fifa_code</th>\n",
       "      <th>games_played</th>\n",
       "      <th>goal_differential</th>\n",
       "      <th>goals_against</th>\n",
       "      <th>goals_for</th>\n",
       "      <th>group_id</th>\n",
       "      <th>group_letter</th>\n",
       "      <th>id</th>\n",
       "      <th>losses</th>\n",
       "      <th>points</th>\n",
       "      <th>wins</th>\n",
       "    </tr>\n",
       "    <tr>\n",
       "      <th>country</th>\n",
       "      <th></th>\n",
       "      <th></th>\n",
       "      <th></th>\n",
       "      <th></th>\n",
       "      <th></th>\n",
       "      <th></th>\n",
       "      <th></th>\n",
       "      <th></th>\n",
       "      <th></th>\n",
       "      <th></th>\n",
       "      <th></th>\n",
       "      <th></th>\n",
       "      <th></th>\n",
       "    </tr>\n",
       "  </thead>\n",
       "  <tbody>\n",
       "    <tr>\n",
       "      <th>Korea Republic</th>\n",
       "      <td>Korea Republic</td>\n",
       "      <td>0</td>\n",
       "      <td>KOR</td>\n",
       "      <td>3</td>\n",
       "      <td>0</td>\n",
       "      <td>3</td>\n",
       "      <td>3</td>\n",
       "      <td>6</td>\n",
       "      <td>F</td>\n",
       "      <td>24</td>\n",
       "      <td>2</td>\n",
       "      <td>3</td>\n",
       "      <td>1</td>\n",
       "    </tr>\n",
       "    <tr>\n",
       "      <th>Germany</th>\n",
       "      <td>Germany</td>\n",
       "      <td>0</td>\n",
       "      <td>GER</td>\n",
       "      <td>3</td>\n",
       "      <td>-2</td>\n",
       "      <td>4</td>\n",
       "      <td>2</td>\n",
       "      <td>6</td>\n",
       "      <td>F</td>\n",
       "      <td>21</td>\n",
       "      <td>2</td>\n",
       "      <td>3</td>\n",
       "      <td>1</td>\n",
       "    </tr>\n",
       "    <tr>\n",
       "      <th>Serbia</th>\n",
       "      <td>Serbia</td>\n",
       "      <td>0</td>\n",
       "      <td>SRB</td>\n",
       "      <td>3</td>\n",
       "      <td>-2</td>\n",
       "      <td>4</td>\n",
       "      <td>2</td>\n",
       "      <td>5</td>\n",
       "      <td>E</td>\n",
       "      <td>20</td>\n",
       "      <td>2</td>\n",
       "      <td>3</td>\n",
       "      <td>1</td>\n",
       "    </tr>\n",
       "    <tr>\n",
       "      <th>Costa Rica</th>\n",
       "      <td>Costa Rica</td>\n",
       "      <td>1</td>\n",
       "      <td>CRC</td>\n",
       "      <td>3</td>\n",
       "      <td>-3</td>\n",
       "      <td>5</td>\n",
       "      <td>2</td>\n",
       "      <td>5</td>\n",
       "      <td>E</td>\n",
       "      <td>19</td>\n",
       "      <td>2</td>\n",
       "      <td>1</td>\n",
       "      <td>0</td>\n",
       "    </tr>\n",
       "    <tr>\n",
       "      <th>Belgium</th>\n",
       "      <td>Belgium</td>\n",
       "      <td>0</td>\n",
       "      <td>BEL</td>\n",
       "      <td>7</td>\n",
       "      <td>10</td>\n",
       "      <td>6</td>\n",
       "      <td>16</td>\n",
       "      <td>7</td>\n",
       "      <td>G</td>\n",
       "      <td>25</td>\n",
       "      <td>1</td>\n",
       "      <td>18</td>\n",
       "      <td>6</td>\n",
       "    </tr>\n",
       "  </tbody>\n",
       "</table>\n",
       "</div>"
      ],
      "text/plain": [
       "                       country  draws fifa_code  games_played  \\\n",
       "country                                                         \n",
       "Korea Republic  Korea Republic      0       KOR             3   \n",
       "Germany                Germany      0       GER             3   \n",
       "Serbia                  Serbia      0       SRB             3   \n",
       "Costa Rica          Costa Rica      1       CRC             3   \n",
       "Belgium                Belgium      0       BEL             7   \n",
       "\n",
       "                goal_differential  goals_against  goals_for  group_id  \\\n",
       "country                                                                 \n",
       "Korea Republic                  0              3          3         6   \n",
       "Germany                        -2              4          2         6   \n",
       "Serbia                         -2              4          2         5   \n",
       "Costa Rica                     -3              5          2         5   \n",
       "Belgium                        10              6         16         7   \n",
       "\n",
       "               group_letter  id  losses  points  wins  \n",
       "country                                                \n",
       "Korea Republic            F  24       2       3     1  \n",
       "Germany                   F  21       2       3     1  \n",
       "Serbia                    E  20       2       3     1  \n",
       "Costa Rica                E  19       2       1     0  \n",
       "Belgium                   G  25       1      18     6  "
      ]
     },
     "execution_count": 59,
     "metadata": {},
     "output_type": "execute_result"
    }
   ],
   "source": [
    "#request data on all the teams in the 2018 World cup\n",
    "response = requests.get(fifa_url).json()\n",
    "teams_df = pd.DataFrame(response)\n",
    "teams_df.index = teams_df['country']\n",
    "del teams_df['alternate_name']\n",
    "teams_df.head()\n"
   ]
  },
  {
   "cell_type": "code",
   "execution_count": 82,
   "metadata": {},
   "outputs": [],
   "source": [
    "matches_url = 'https://worldcup.sfg.io/matches'\n",
    "match_df = pd.DataFrame(requests.get(matches_url).json())\n",
    "match_df\n",
    "first_stage = match_df[match_df['stage_name']=='First stage']\n",
    "round_sixteen = match_df[match_df['stage_name']=='Round of 16']\n",
    "quartfinals = match_df[match_df['stage_name']=='Quarter-finals']\n",
    "semifinals = match_df[match_df['stage_name']=='Semi-finals']\n",
    "final = match_df[match_df['stage_name']=='Final']\n"
   ]
  },
  {
   "cell_type": "code",
   "execution_count": 103,
   "metadata": {
    "scrolled": true
   },
   "outputs": [],
   "source": [
    "#goal_times = {}\n",
    "goal_times_dict = {\n",
    "    'First stage':{},\n",
    "    'Round of 16':{},\n",
    "    'Quarter-finals': {},\n",
    "    'Semi-finals': {},\n",
    "    'Play-off for third place':{},\n",
    "    'Final':{} \n",
    "}\n",
    "\n",
    "goal_times_means = pd.DataFrame()\n",
    "\n",
    "for index, match in match_df.iterrows():\n",
    "    \n",
    "    home = match['home_team_country']\n",
    "    away = match['away_team_country']\n",
    "    home_event = match['home_team_events']\n",
    "    away_event = match['away_team_events']\n",
    "    team_events = [home_event, away_event]\n",
    "    teams = [home, away]\n",
    "    goal_times = goal_times_dict[match['stage_name']]\n",
    "    \n",
    "    for events in team_events:\n",
    "        team = teams[team_events.index(events)]\n",
    "        for event in events: \n",
    "            if (event['type_of_event'] == 'goal'):\n",
    "                time = event['time']\n",
    "                time = time.replace(\"'\", \"\")\n",
    "                \n",
    "                try:\n",
    "                    time = int(time)\n",
    "                except:\n",
    "                    time = eval(time)\n",
    "                    \n",
    "                if team in goal_times:\n",
    "                    goal_times[team].append(time)\n",
    "                else:\n",
    "                    goal_times[team] = []\n",
    "                    goal_times[team].append(time)\n",
    "                    goal_type[team] = 0\n",
    "            else:\n",
    "                continue\n",
    "\n",
    "for stage in goal_times_dict:\n",
    "    for country in goal_times_dict[stage]:\n",
    "        goal_times_means.loc[country, stage] = np.mean(goal_times_dict[stage][country])\n"
   ]
  },
  {
   "cell_type": "code",
   "execution_count": null,
   "metadata": {},
   "outputs": [],
   "source": []
  },
  {
   "cell_type": "code",
   "execution_count": 141,
   "metadata": {
    "scrolled": true
   },
   "outputs": [
    {
     "data": {
      "image/png": "[encoded data removed]",
      "text/plain": [
       "<Figure size 432x288 with 4 Axes>"
      ]
     },
     "metadata": {},
     "output_type": "display_data"
    }
   ],
   "source": [
    "plt.subplots(2,2)\n",
    "\n",
    "for stage in goal_times_means:\n",
    "    \n",
    "    plt.bar(np.arange(0, len(goal_times_means[stage])), goal_times_means[stage])\n",
    "    countrys = goal_times_means.index.tolist()\n",
    "    plt.xticks(np.arange(0, len(goal_times_means[stage])), countrys, rotation=90)"
   ]
  },
  {
   "cell_type": "code",
   "execution_count": null,
   "metadata": {},
   "outputs": [],
   "source": []
  },
  {
   "cell_type": "code",
   "execution_count": null,
   "metadata": {},
   "outputs": [],
   "source": []
  },
  {
   "cell_type": "code",
   "execution_count": 66,
   "metadata": {},
   "outputs": [
    {
     "data": {
      "text/plain": [
       "{'Russia': 0,\n",
       " 'Uruguay': 0,\n",
       " 'Portugal': 0,\n",
       " 'Spain': 0,\n",
       " 'France': 0,\n",
       " 'Argentina': 0,\n",
       " 'Iceland': 0,\n",
       " 'Denmark': 0,\n",
       " 'Serbia': 0,\n",
       " 'Mexico': 0,\n",
       " 'Brazil': 0,\n",
       " 'Switzerland': 0,\n",
       " 'Belgium': 0,\n",
       " 'England': 0,\n",
       " 'Colombia': 0,\n",
       " 'Japan': 0,\n",
       " 'Poland': 0,\n",
       " 'Senegal': 0,\n",
       " 'Croatia': 0,\n",
       " 'Nigeria': 0,\n",
       " 'Tunisia': 0,\n",
       " 'Korea Republic': 0,\n",
       " 'Germany': 0,\n",
       " 'Sweden': 0,\n",
       " 'Panama': 0,\n",
       " 'Saudi Arabia': 0,\n",
       " 'Egypt': 0,\n",
       " 'Morocco': 0,\n",
       " 'Peru': 0,\n",
       " 'Costa Rica': 0}"
      ]
     },
     "execution_count": 66,
     "metadata": {},
     "output_type": "execute_result"
    }
   ],
   "source": [
    "goal_type"
   ]
  },
  {
   "cell_type": "code",
   "execution_count": 282,
   "metadata": {},
   "outputs": [],
   "source": [
    "winning_fouls_total = 0\n",
    "losing_fouls_total = 0\n",
    "foul_avg = {}\n",
    "for i in np.arange(0,len(match_df)-1):\n",
    "    \n",
    "    #grab country names and fouls committed\n",
    "    winner = match_df.iloc[i,20]\n",
    "    row = match_df.iloc[i,:]\n",
    "    home = row['home_team_country']\n",
    "    away = row['away_team_country']\n",
    "    home_foul = row['home_team_statistics']['fouls_committed']\n",
    "    away_foul = row['away_team_statistics']['fouls_committed']\n",
    "    \n",
    "    #fix data for none values\n",
    "    if (home_foul == None):\n",
    "        home_foul=0\n",
    "    if (away_foul == None):\n",
    "        away_foul = 0\n",
    "        \n",
    "    #add both foul counts to country totals\n",
    "    if (home in foul_avg):\n",
    "        foul_avg[home] += home_foul\n",
    "    else:\n",
    "        foul_avg[home] = home_foul\n",
    "    if (away in foul_avg):\n",
    "        foul_avg[away] += away_foul\n",
    "    else:\n",
    "        foul_avg[away] = away_foul\n",
    "        \n",
    "    #add foul counts to winning and losing foul counts\n",
    "    if (row['home_team_country'] == winner) :\n",
    "        winning_fouls_total += home_foul\n",
    "        losing_fouls_total += away_foul\n",
    "    elif (row['away_team_country'] == winner) :\n",
    "        winning_fouls_total += away_foul\n",
    "        losing_fouls_total += home_foul\n",
    "    else:\n",
    "        continue\n",
    "            \n",
    "    #if theres a draw, dont add to winner count but still add to the country totals      \n",
    " "
   ]
  },
  {
   "cell_type": "code",
   "execution_count": 283,
   "metadata": {},
   "outputs": [
    {
     "name": "stdout",
     "output_type": "stream",
     "text": [
      "{'Russia': 95, 'Saudi Arabia': 30, 'Egypt': 38, 'Uruguay': 61, 'Morocco': 62, 'Iran': 44, 'Portugal': 55, 'Spain': 34, 'France': 78, 'Australia': 37, 'Argentina': 55, 'Iceland': 34, 'Peru': 37, 'Denmark': 54, 'Croatia': 100, 'Nigeria': 46, 'Costa Rica': 43, 'Serbia': 45, 'Germany': 29, 'Mexico': 54, 'Brazil': 50, 'Switzerland': 52, 'Sweden': 64, 'Korea Republic': 62, 'Belgium': 97, 'Panama': 35, 'Tunisia': 46, 'England': 58, 'Colombia': 53, 'Japan': 29, 'Poland': 16, 'Senegal': 30}\n"
     ]
    }
   ],
   "source": [
    "print(foul_avg)\n",
    "\n",
    "games_won = []\n",
    "#calculate average fouls based on foul dictionary\n",
    "for country in teams_df['country']:\n",
    "    games = teams_df.loc[country, 'games_played']\n",
    "    foul_avg[country] = foul_avg[country]/games\n",
    "    won = teams_df.loc[country, 'points']\n",
    "    games_won.append(won)\n"
   ]
  },
  {
   "cell_type": "code",
   "execution_count": 284,
   "metadata": {
    "scrolled": true
   },
   "outputs": [
    {
     "data": {
      "text/plain": [
       "([<matplotlib.axis.XTick at 0x1b2909aaf60>,\n",
       "  <matplotlib.axis.XTick at 0x1b2909aa828>,\n",
       "  <matplotlib.axis.XTick at 0x1b2909aa2b0>,\n",
       "  <matplotlib.axis.XTick at 0x1b290a15128>,\n",
       "  <matplotlib.axis.XTick at 0x1b290a15160>,\n",
       "  <matplotlib.axis.XTick at 0x1b290a15978>,\n",
       "  <matplotlib.axis.XTick at 0x1b290a15e80>,\n",
       "  <matplotlib.axis.XTick at 0x1b290a1d3c8>,\n",
       "  <matplotlib.axis.XTick at 0x1b290a1d8d0>,\n",
       "  <matplotlib.axis.XTick at 0x1b290a1ddd8>,\n",
       "  <matplotlib.axis.XTick at 0x1b290a24320>,\n",
       "  <matplotlib.axis.XTick at 0x1b290a24828>,\n",
       "  <matplotlib.axis.XTick at 0x1b290a24d30>,\n",
       "  <matplotlib.axis.XTick at 0x1b290a247f0>,\n",
       "  <matplotlib.axis.XTick at 0x1b290a1d978>,\n",
       "  <matplotlib.axis.XTick at 0x1b290a157f0>,\n",
       "  <matplotlib.axis.XTick at 0x1b290a2c6a0>,\n",
       "  <matplotlib.axis.XTick at 0x1b290a2cba8>,\n",
       "  <matplotlib.axis.XTick at 0x1b290a35160>,\n",
       "  <matplotlib.axis.XTick at 0x1b290a355f8>,\n",
       "  <matplotlib.axis.XTick at 0x1b290a35b00>,\n",
       "  <matplotlib.axis.XTick at 0x1b290a3e0b8>,\n",
       "  <matplotlib.axis.XTick at 0x1b290a3e550>,\n",
       "  <matplotlib.axis.XTick at 0x1b290a35400>,\n",
       "  <matplotlib.axis.XTick at 0x1b290a15780>,\n",
       "  <matplotlib.axis.XTick at 0x1b290a3e898>,\n",
       "  <matplotlib.axis.XTick at 0x1b290a3eda0>,\n",
       "  <matplotlib.axis.XTick at 0x1b290a452e8>,\n",
       "  <matplotlib.axis.XTick at 0x1b290a457f0>,\n",
       "  <matplotlib.axis.XTick at 0x1b290a45cf8>,\n",
       "  <matplotlib.axis.XTick at 0x1b290a4e240>,\n",
       "  <matplotlib.axis.XTick at 0x1b290a4e748>],\n",
       " <a list of 32 Text xticklabel objects>)"
      ]
     },
     "execution_count": 284,
     "metadata": {},
     "output_type": "execute_result"
    },
    {
     "data": {
      "image/png": "[encoded data removed]",
      "text/plain": [
       "<Figure size 432x288 with 1 Axes>"
      ]
     },
     "metadata": {},
     "output_type": "display_data"
    }
   ],
   "source": [
    "plt.bar(range(len(foul_avg)), list(foul_avg.values()), align='center')\n",
    "plt.xticks(range(len(foul_avg)), list(foul_avg.keys()), rotation = 90)\n",
    "\n",
    "#country's foul average per game\n"
   ]
  },
  {
   "cell_type": "code",
   "execution_count": 285,
   "metadata": {},
   "outputs": [
    {
     "data": {
      "text/plain": [
       "<BarContainer object of 2 artists>"
      ]
     },
     "execution_count": 285,
     "metadata": {},
     "output_type": "execute_result"
    },
    {
     "data": {
      "image/png": "[encoded data removed]",
      "text/plain": [
       "<Figure size 432x288 with 1 Axes>"
      ]
     },
     "metadata": {},
     "output_type": "display_data"
    }
   ],
   "source": [
    "plt.bar(['winning', 'losing'],[winning_fouls_total, losing_fouls_total])\n",
    "#total fouls"
   ]
  },
  {
   "cell_type": "code",
   "execution_count": 286,
   "metadata": {},
   "outputs": [
    {
     "data": {
      "text/plain": [
       "<matplotlib.collections.PathCollection at 0x1b290af1eb8>"
      ]
     },
     "execution_count": 286,
     "metadata": {},
     "output_type": "execute_result"
    },
    {
     "data": {
      "image/png": "[encoded data removed]",
      "text/plain": [
       "<Figure size 432x288 with 1 Axes>"
      ]
     },
     "metadata": {},
     "output_type": "display_data"
    }
   ],
   "source": [
    "#games won vs avg fouls\n",
    "plt.scatter(games_won, list(foul_avg.values()))"
   ]
  },
  {
   "cell_type": "code",
   "execution_count": 137,
   "metadata": {},
   "outputs": [],
   "source": []
  },
  {
   "cell_type": "code",
   "execution_count": 172,
   "metadata": {},
   "outputs": [
    {
     "data": {
      "text/html": [
       "<div>\n",
       "<style scoped>\n",
       "    .dataframe tbody tr th:only-of-type {\n",
       "        vertical-align: middle;\n",
       "    }\n",
       "\n",
       "    .dataframe tbody tr th {\n",
       "        vertical-align: top;\n",
       "    }\n",
       "\n",
       "    .dataframe thead th {\n",
       "        text-align: right;\n",
       "    }\n",
       "</style>\n",
       "<table border=\"1\" class=\"dataframe\">\n",
       "  <thead>\n",
       "    <tr style=\"text-align: right;\">\n",
       "      <th></th>\n",
       "      <th>a</th>\n",
       "      <th>b</th>\n",
       "      <th>c</th>\n",
       "      <th>d</th>\n",
       "      <th>e</th>\n",
       "      <th>f</th>\n",
       "      <th>g</th>\n",
       "      <th>h</th>\n",
       "    </tr>\n",
       "  </thead>\n",
       "  <tbody>\n",
       "    <tr>\n",
       "      <th>matches</th>\n",
       "      <td>[{'name': 1, 'type': 'group', 'home_team': 1, ...</td>\n",
       "      <td>[{'name': 3, 'type': 'group', 'home_team': 5, ...</td>\n",
       "      <td>[{'name': 5, 'type': 'group', 'home_team': 9, ...</td>\n",
       "      <td>[{'name': 7, 'type': 'group', 'home_team': 13,...</td>\n",
       "      <td>[{'name': 9, 'type': 'group', 'home_team': 17,...</td>\n",
       "      <td>[{'name': 11, 'type': 'group', 'home_team': 21...</td>\n",
       "      <td>[{'name': 13, 'type': 'group', 'home_team': 25...</td>\n",
       "      <td>[{'name': 15, 'type': 'group', 'home_team': 29...</td>\n",
       "    </tr>\n",
       "    <tr>\n",
       "      <th>name</th>\n",
       "      <td>Group A</td>\n",
       "      <td>Group B</td>\n",
       "      <td>Group C</td>\n",
       "      <td>Group D</td>\n",
       "      <td>Group E</td>\n",
       "      <td>Group F</td>\n",
       "      <td>Group G</td>\n",
       "      <td>Group H</td>\n",
       "    </tr>\n",
       "    <tr>\n",
       "      <th>runnerup</th>\n",
       "      <td>1</td>\n",
       "      <td>5</td>\n",
       "      <td>12</td>\n",
       "      <td>13</td>\n",
       "      <td>18</td>\n",
       "      <td>22</td>\n",
       "      <td>28</td>\n",
       "      <td>32</td>\n",
       "    </tr>\n",
       "    <tr>\n",
       "      <th>winner</th>\n",
       "      <td>4</td>\n",
       "      <td>6</td>\n",
       "      <td>9</td>\n",
       "      <td>15</td>\n",
       "      <td>17</td>\n",
       "      <td>23</td>\n",
       "      <td>25</td>\n",
       "      <td>31</td>\n",
       "    </tr>\n",
       "  </tbody>\n",
       "</table>\n",
       "</div>"
      ],
      "text/plain": [
       "                                                          a  \\\n",
       "matches   [{'name': 1, 'type': 'group', 'home_team': 1, ...   \n",
       "name                                                Group A   \n",
       "runnerup                                                  1   \n",
       "winner                                                    4   \n",
       "\n",
       "                                                          b  \\\n",
       "matches   [{'name': 3, 'type': 'group', 'home_team': 5, ...   \n",
       "name                                                Group B   \n",
       "runnerup                                                  5   \n",
       "winner                                                    6   \n",
       "\n",
       "                                                          c  \\\n",
       "matches   [{'name': 5, 'type': 'group', 'home_team': 9, ...   \n",
       "name                                                Group C   \n",
       "runnerup                                                 12   \n",
       "winner                                                    9   \n",
       "\n",
       "                                                          d  \\\n",
       "matches   [{'name': 7, 'type': 'group', 'home_team': 13,...   \n",
       "name                                                Group D   \n",
       "runnerup                                                 13   \n",
       "winner                                                   15   \n",
       "\n",
       "                                                          e  \\\n",
       "matches   [{'name': 9, 'type': 'group', 'home_team': 17,...   \n",
       "name                                                Group E   \n",
       "runnerup                                                 18   \n",
       "winner                                                   17   \n",
       "\n",
       "                                                          f  \\\n",
       "matches   [{'name': 11, 'type': 'group', 'home_team': 21...   \n",
       "name                                                Group F   \n",
       "runnerup                                                 22   \n",
       "winner                                                   23   \n",
       "\n",
       "                                                          g  \\\n",
       "matches   [{'name': 13, 'type': 'group', 'home_team': 25...   \n",
       "name                                                Group G   \n",
       "runnerup                                                 28   \n",
       "winner                                                   25   \n",
       "\n",
       "                                                          h  \n",
       "matches   [{'name': 15, 'type': 'group', 'home_team': 29...  \n",
       "name                                                Group H  \n",
       "runnerup                                                 32  \n",
       "winner                                                   31  "
      ]
     },
     "execution_count": 172,
     "metadata": {},
     "output_type": "execute_result"
    }
   ],
   "source": []
  },
  {
   "cell_type": "code",
   "execution_count": 171,
   "metadata": {},
   "outputs": [
    {
     "data": {
      "text/html": [
       "<div>\n",
       "<style scoped>\n",
       "    .dataframe tbody tr th:only-of-type {\n",
       "        vertical-align: middle;\n",
       "    }\n",
       "\n",
       "    .dataframe tbody tr th {\n",
       "        vertical-align: top;\n",
       "    }\n",
       "\n",
       "    .dataframe thead th {\n",
       "        text-align: right;\n",
       "    }\n",
       "</style>\n",
       "<table border=\"1\" class=\"dataframe\">\n",
       "  <thead>\n",
       "    <tr style=\"text-align: right;\">\n",
       "      <th></th>\n",
       "      <th>matches</th>\n",
       "    </tr>\n",
       "  </thead>\n",
       "  <tbody>\n",
       "    <tr>\n",
       "      <th>a</th>\n",
       "      <td>[{'name': 1, 'type': 'group', 'home_team': 1, ...</td>\n",
       "    </tr>\n",
       "    <tr>\n",
       "      <th>b</th>\n",
       "      <td>[{'name': 3, 'type': 'group', 'home_team': 5, ...</td>\n",
       "    </tr>\n",
       "    <tr>\n",
       "      <th>c</th>\n",
       "      <td>[{'name': 5, 'type': 'group', 'home_team': 9, ...</td>\n",
       "    </tr>\n",
       "    <tr>\n",
       "      <th>d</th>\n",
       "      <td>[{'name': 7, 'type': 'group', 'home_team': 13,...</td>\n",
       "    </tr>\n",
       "    <tr>\n",
       "      <th>e</th>\n",
       "      <td>[{'name': 9, 'type': 'group', 'home_team': 17,...</td>\n",
       "    </tr>\n",
       "    <tr>\n",
       "      <th>f</th>\n",
       "      <td>[{'name': 11, 'type': 'group', 'home_team': 21...</td>\n",
       "    </tr>\n",
       "    <tr>\n",
       "      <th>g</th>\n",
       "      <td>[{'name': 13, 'type': 'group', 'home_team': 25...</td>\n",
       "    </tr>\n",
       "    <tr>\n",
       "      <th>h</th>\n",
       "      <td>[{'name': 15, 'type': 'group', 'home_team': 29...</td>\n",
       "    </tr>\n",
       "  </tbody>\n",
       "</table>\n",
       "</div>"
      ],
      "text/plain": [
       "                                             matches\n",
       "a  [{'name': 1, 'type': 'group', 'home_team': 1, ...\n",
       "b  [{'name': 3, 'type': 'group', 'home_team': 5, ...\n",
       "c  [{'name': 5, 'type': 'group', 'home_team': 9, ...\n",
       "d  [{'name': 7, 'type': 'group', 'home_team': 13,...\n",
       "e  [{'name': 9, 'type': 'group', 'home_team': 17,...\n",
       "f  [{'name': 11, 'type': 'group', 'home_team': 21...\n",
       "g  [{'name': 13, 'type': 'group', 'home_team': 25...\n",
       "h  [{'name': 15, 'type': 'group', 'home_team': 29..."
      ]
     },
     "execution_count": 171,
     "metadata": {},
     "output_type": "execute_result"
    }
   ],
   "source": []
  },
  {
   "cell_type": "code",
   "execution_count": 170,
   "metadata": {},
   "outputs": [
    {
     "data": {
      "text/plain": [
       "matches    [{'name': 1, 'type': 'group', 'home_team': 1, ...\n",
       "Name: a, dtype: object"
      ]
     },
     "execution_count": 170,
     "metadata": {},
     "output_type": "execute_result"
    }
   ],
   "source": []
  },
  {
   "cell_type": "raw",
   "metadata": {},
   "source": []
  }
 ],
 "metadata": {
  "kernelspec": {
   "display_name": "Python 3",
   "language": "python",
   "name": "python3"
  },
  "language_info": {
   "codemirror_mode": {
    "name": "ipython",
    "version": 3
   },
   "file_extension": ".py",
   "mimetype": "text/x-python",
   "name": "python",
   "nbconvert_exporter": "python",
   "pygments_lexer": "ipython3",
   "version": "3.6.6"
  }
 },
 "nbformat": 4,
 "nbformat_minor": 2
}
